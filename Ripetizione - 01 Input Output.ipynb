{
 "cells": [
  {
   "cell_type": "markdown",
   "metadata": {},
   "source": [
    "## PYTHON - ripetizione 01\n",
    "\n",
    "### Assegnazioni"
   ]
  },
  {
   "cell_type": "code",
   "execution_count": null,
   "metadata": {},
   "outputs": [],
   "source": [
    "# variabile numerica intera e reale\n",
    "tariffa = 5\n",
    "pi_greco = 3.14\n",
    "print(tariffa)\n",
    "print(pi_greco)\n",
    "\n",
    "# variabile stringa\n",
    "saluto = \"ciao\"\n",
    "print(saluto)\n",
    "\n",
    "# variabile booleana\n",
    "flag = True\n",
    "print(flag)\n",
    "\n"
   ]
  },
  {
   "cell_type": "markdown",
   "metadata": {},
   "source": [
    "### Input e Output"
   ]
  },
  {
   "cell_type": "code",
   "execution_count": null,
   "metadata": {},
   "outputs": [],
   "source": [
    "# input da tastiera di una stringa\n",
    "nome = input(\"Come ti chiami? \")\n",
    "\n",
    "# output su schermo\n",
    "print(\"Ciao\", nome)\n",
    "print(\"Ciao \" + nome)\n"
   ]
  },
  {
   "cell_type": "code",
   "execution_count": 16,
   "metadata": {},
   "outputs": [
    {
     "name": "stdout",
     "output_type": "stream",
     "text": [
      "Hai inserito il numero 5\n",
      "Il doppio del numero è 55\n",
      "ATTENZIONE: il risultato non è quello che ci aspettiamo\n",
      "Il doppio del numero è 10\n",
      "Il doppio del numero è 10.0\n"
     ]
    }
   ],
   "source": [
    "# input da tastiera di un numero\n",
    "numero = input(\"Inserisci un numero: \") \n",
    "print(\"Hai inserito il numero\", numero) \n",
    "\n",
    "# vediamo che tipo di variabile è\n",
    "print(\"Il doppio del numero è\", numero*2)\n",
    "print(\"ATTENZIONE: il risultato non è quello che ci aspettiamo\")\n",
    "\n",
    "# per ottenere il doppio del numero dobbiamo convertirlo in intero   \n",
    "print(\"Il doppio del numero è\", int(numero)*2)  \n",
    "\n",
    "# oppure possiamo convertirlo in float\n",
    "print(\"Il doppio del numero è\", float(numero)*2)\n"
   ]
  },
  {
   "cell_type": "markdown",
   "metadata": {},
   "source": [
    "### Ricapitoliamo\n",
    "In Python ci sono 4 funzioni che permettono di convertire il tipo di un valore o di una variabile:\n",
    "\n",
    "1. `int()` per convertire un valore in un intero\n",
    "2. `float()` per convertire un valore in un numero con la virgola\n",
    "3. `bool()` per convertire un valore in un booleano (True cioè 1 oppure False cioè 0)\n",
    "4. `str()` per convertire un valore in una stringa\n",
    "\n",
    "Possiamo controllare il tipo di un valore o di una variabile usando la funzione ```type()```."
   ]
  },
  {
   "cell_type": "markdown",
   "metadata": {},
   "source": [
    "### Il metodo format()\n",
    "Si tratta di un metodo molto utile all'interno delle funzioni `print()`.\n",
    "\n",
    "Il metodo `format()` permette di inserire all'interno di una stringa dei valori di variabili."
   ]
  },
  {
   "cell_type": "markdown",
   "metadata": {},
   "source": [
    "#"
   ]
  },
  {
   "cell_type": "code",
   "execution_count": null,
   "metadata": {},
   "outputs": [],
   "source": [
    "# su un importo di 1500 euro, calcolare il 20% di sconto e stampare l'importo scontato\n",
    "\n",
    "importo = 1500\n",
    "sconto = importo * 0.2\n",
    "importo_scontato = importo - sconto\n",
    "\n",
    "print(\"importo = {} sconto = {} importo scontato = {}\".format(importo, sconto, importo_scontato)) \n",
    "\n",
    "# se non uso format()\n",
    "\n",
    "print(\"importo =\", importo, \"sconto =\", sconto, \"importo scontato =\", importo_scontato)\n"
   ]
  },
  {
   "cell_type": "code",
   "execution_count": 18,
   "metadata": {},
   "outputs": [
    {
     "name": "stdout",
     "output_type": "stream",
     "text": [
      "importo = 500 sconto = 10 importo scontato = 490\n"
     ]
    }
   ],
   "source": [
    "# un altro modo per usare format()\n",
    "\n",
    "stringa = \"importo = {} sconto = {} importo scontato = {}\"\n",
    "print(stringa.format(500, \"10\", \"490\"))"
   ]
  },
  {
   "cell_type": "markdown",
   "metadata": {},
   "source": [
    "Possiamo anche formattare le stringhe con una sintassi più sintetica, utilizzando le cosiddette *f-string*.\n",
    "\n",
    "Le *f-string* sono stringhe precedute dal carattere `f` e contengono delle espressioni tra parentesi graffe `{}`.\n",
    "\n",
    "Le espressioni possono essere delle variabili, delle operazioni, delle chiamate a funzioni, ecc.\n",
    "\n",
    "Le *f-string* vengono valutate e il loro risultato viene inserito nella stringa."
   ]
  },
  {
   "cell_type": "code",
   "execution_count": 17,
   "metadata": {},
   "outputs": [
    {
     "name": "stdout",
     "output_type": "stream",
     "text": [
      "importo = 1500 sconto = 300.0 importo scontato = 1200.0\n"
     ]
    }
   ],
   "source": [
    "print(f\"importo = {importo} sconto = {sconto} importo scontato = {importo_scontato}\")\n"
   ]
  },
  {
   "cell_type": "markdown",
   "metadata": {},
   "source": [
    "\n",
    "### Utilizzo della funzione `round()`\n",
    "\n",
    "La funzione `round()` in Python viene utilizzata per arrotondare un numero ad un numero specificato di cifre decimali. La sintassi è la seguente:\n",
    "\n",
    "```python\n",
    "round(number, digits)\n",
    "```\n",
    "\n",
    "- `number`: Il numero che si desidera arrotondare.\n",
    "- `digits`: Il numero di cifre decimali a cui si desidera arrotondare il numero. Se omesso, il numero verrà arrotondato all'intero più vicino.\n",
    "\n",
    "Esempi di utilizzo:"
   ]
  },
  {
   "cell_type": "code",
   "execution_count": null,
   "metadata": {},
   "outputs": [],
   "source": [
    "# Arrotondare un numero float a 2 cifre decimali\n",
    "numero_arrotondato = round(3.14159, 2)\n",
    "print(numero_arrotondato) \n",
    "\n",
    "# Arrotondare un numero float all'intero più vicino\n",
    "numero = 3.14159\n",
    "print(round(numero))\n",
    "\n",
    "# Arrotondare un numero float all'intero più vicino\n",
    "numero = 3.65\n",
    "print(round(numero))\n"
   ]
  },
  {
   "cell_type": "markdown",
   "metadata": {},
   "source": [
    "## Escape Characters\n",
    "I caratteri di escape sono sequenze di caratteri che rappresentano caratteri speciali all'interno delle stringhe. In Python, i caratteri di escape sono preceduti da una barra rovesciata (`\\`). Ecco alcuni esempi comuni di caratteri di escape:\n",
    "\n",
    "- `\\'` : Apostrofo\n",
    "- `\\\"` : Virgolette doppie\n",
    "- `\\\\` : Barra rovesciata\n",
    "- `\\n` : Nuova linea\n",
    "- `\\t` : Tabulazione\n"
   ]
  },
  {
   "cell_type": "code",
   "execution_count": null,
   "metadata": {},
   "outputs": [],
   "source": [
    "# Apostrofo\n",
    "stringa1 = 'L\\'apostrofo è un carattere speciale.'\n",
    "print(stringa1)\n",
    "\n",
    "# Virgolette\n",
    "stringa2 = \"Le virgolette \\\"doppie\\\" sono utili.\"\n",
    "print(stringa2)\n",
    "\n",
    "# Barra rovesciata\n",
    "stringa3 = \"Una barra rovesciata: \\\\\"\n",
    "print(stringa3)\n",
    "\n",
    "# Nuova linea\n",
    "stringa4 = \"Prima linea\\nSeconda linea\"\n",
    "print(stringa4)\n",
    "\n",
    "# Tabulazione\n",
    "stringa5 = \"Colonna1\\tColonna2\"\n",
    "print(stringa5)"
   ]
  },
  {
   "cell_type": "code",
   "execution_count": null,
   "metadata": {},
   "outputs": [],
   "source": [
    "# prova tu\n",
    "\n",
    "# visualizza ciao su una riga e come stai? sulla riga successiva\n",
    "\n",
    "# visualizza importo   sconto    importo scontato\n",
    "\n",
    "# visualizza il percorso di un file C:\\Users\\Utente\\Documenti\n"
   ]
  },
  {
   "cell_type": "code",
   "execution_count": null,
   "metadata": {},
   "outputs": [],
   "source": [
    "'''\n",
    "Scrivi un programma che calcoli il costo totale per parcheggiare un'auto in un parcheggio a pagamento.\n",
    "Il programma deve chiedere all'utente di inserire:\n",
    "\n",
    "    Il numero di ore di permanenza nel parcheggio.\n",
    "    La tariffa oraria del parcheggio.\n",
    "\n",
    "Il programma dovrà quindi calcolare:\n",
    "\n",
    "    Il costo totale della sosta.\n",
    "'''"
   ]
  },
  {
   "cell_type": "markdown",
   "metadata": {},
   "source": [
    "\n",
    "### Un altro modo per formattare l'output\n",
    "### La formattazione con la notazione :.2f\n",
    "\n",
    "La notazione `:.2f` viene utilizzata per formattare i numeri in modo che vengano visualizzati con due cifre decimali. Questo è particolarmente utile quando si desidera visualizzare importi monetari o altri valori numerici con una precisione specifica.\n",
    "\n",
    "Esempio di utilizzo:"
   ]
  },
  {
   "cell_type": "code",
   "execution_count": null,
   "metadata": {},
   "outputs": [],
   "source": [
    "\n",
    "importo = 1500\n",
    "sconto = 300.0\n",
    "importo_scontato = 1200.0\n",
    "\n",
    "# Formattare l'output con due cifre decimali\n",
    "print(f\"importo = {importo:.2f} sconto = {sconto:.2f} importo scontato = {importo_scontato:.2f}\")\n"
   ]
  },
  {
   "cell_type": "code",
   "execution_count": null,
   "metadata": {},
   "outputs": [],
   "source": [
    "'''\n",
    "Scrivi un programma che calcoli il costo totale di un viaggio in auto. \n",
    "Il programma deve chiedere all'utente le seguenti informazioni:\n",
    "\n",
    "    1-La distanza da percorrere in chilometri.\n",
    "    2-Il consumo medio di carburante dell'auto (litri per 100 km).\n",
    "    3-Il prezzo del carburante per litro.\n",
    "    4-Le spese aggiuntive (es. pedaggi, parcheggi, ecc.).\n",
    "\n",
    "Il programma deve calcolare:\n",
    "\n",
    "    Il costo totale del carburante.\n",
    "    Il costo complessivo del viaggio, inclusi i costi aggiuntivi.\n",
    "    Il programma deve stampare i risultati ottenuti con due cifre decimali.\n",
    "'''\n",
    "\n"
   ]
  },
  {
   "cell_type": "code",
   "execution_count": null,
   "metadata": {},
   "outputs": [],
   "source": [
    "'''\n",
    "Scrivi un programma che calcoli il costo totale di un acquisto online.\n",
    "Il programma deve chiedere all'utente di inserire:\n",
    "\n",
    "    Il prezzo di un prodotto.\n",
    "    La quantità desiderata del prodotto.\n",
    "    Le spese di spedizione fisse.\n",
    "\n",
    "Il programma dovrà quindi calcolare:\n",
    "\n",
    "    Il costo totale dei prodotti.\n",
    "    Il costo totale dell'acquisto, includendo le spese di spedizione.\n",
    "    Il programma deve stampare i risultati ottenuti con due cifre decimali.\n",
    "'''"
   ]
  },
  {
   "cell_type": "markdown",
   "metadata": {},
   "source": [
    "### Alla fine dello svolgimento del notebook devi saper fare in Python:\n",
    "- input \n",
    "- assegnazioni\n",
    "- output con format() e f-string \n",
    "- output con gli escape characters e formattati con round() e con la notazione :.2f"
   ]
  }
 ],
 "metadata": {
  "kernelspec": {
   "display_name": "Python 3",
   "language": "python",
   "name": "python3"
  },
  "language_info": {
   "codemirror_mode": {
    "name": "ipython",
    "version": 3
   },
   "file_extension": ".py",
   "mimetype": "text/x-python",
   "name": "python",
   "nbconvert_exporter": "python",
   "pygments_lexer": "ipython3",
   "version": "3.10.8"
  }
 },
 "nbformat": 4,
 "nbformat_minor": 2
}
