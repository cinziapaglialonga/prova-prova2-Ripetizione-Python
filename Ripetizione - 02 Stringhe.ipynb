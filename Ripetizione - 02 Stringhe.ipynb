{
 "cells": [
  {
   "cell_type": "markdown",
   "metadata": {},
   "source": [
    "## PYTHON - ripetizione 02\n",
    "\n",
    "### Stringhe\n",
    "Le stringhe in Python sono le variabili di tipo str. I valori delle stringhe si possono inserire tra doppi apici \" \" o tra apici singoli ' '."
   ]
  },
  {
   "cell_type": "code",
   "execution_count": 13,
   "metadata": {},
   "outputs": [],
   "source": [
    "mia_stringa = 'questa è una stringa!'\n",
    "mia_stringa2 = \"anche questa è una stringa!!!\""
   ]
  },
  {
   "cell_type": "markdown",
   "metadata": {},
   "source": [
    "Se la stringa deve contenere un apice doppio o un apice singolo bisogna includere \\ nella stringa per non incorrere in errori:"
   ]
  },
  {
   "cell_type": "code",
   "execution_count": null,
   "metadata": {},
   "outputs": [],
   "source": [
    "stringa = 'L\\'auto è nel garage.'\n",
    "print(stringa)"
   ]
  },
  {
   "cell_type": "markdown",
   "metadata": {},
   "source": [
    "Se ci dimentichiamo del carattere \\ avremo un errore:"
   ]
  },
  {
   "cell_type": "code",
   "execution_count": 15,
   "metadata": {},
   "outputs": [],
   "source": [
    "stringa = 'L\\'auto è nel garage.'"
   ]
  },
  {
   "cell_type": "markdown",
   "metadata": {},
   "source": [
    "In Python si possono effettuare alcune operazioni aritmetiche con le stringhe"
   ]
  },
  {
   "cell_type": "code",
   "execution_count": 16,
   "metadata": {},
   "outputs": [],
   "source": [
    "prima_parola = 'Ciao'\n",
    "seconda_parola = 'amico'"
   ]
  },
  {
   "cell_type": "code",
   "execution_count": null,
   "metadata": {},
   "outputs": [],
   "source": [
    "print(prima_parola + seconda_parola)"
   ]
  },
  {
   "cell_type": "code",
   "execution_count": null,
   "metadata": {},
   "outputs": [],
   "source": [
    "print(prima_parola + ' ' + seconda_parola)"
   ]
  },
  {
   "cell_type": "code",
   "execution_count": null,
   "metadata": {},
   "outputs": [],
   "source": [
    "print(prima_parola * 5)"
   ]
  },
  {
   "cell_type": "markdown",
   "metadata": {},
   "source": [
    "Possiamo anche stampare i singoli caratteri della stringa usando gli indici: l'indice del primo carattere è sempre 0."
   ]
  },
  {
   "cell_type": "code",
   "execution_count": null,
   "metadata": {},
   "outputs": [],
   "source": [
    "print(prima_parola[0])"
   ]
  },
  {
   "cell_type": "code",
   "execution_count": null,
   "metadata": {},
   "outputs": [],
   "source": [
    "print(prima_parola[1])"
   ]
  },
  {
   "cell_type": "markdown",
   "metadata": {},
   "source": [
    "Python supporta anche gli indici negativi:"
   ]
  },
  {
   "cell_type": "code",
   "execution_count": null,
   "metadata": {},
   "outputs": [],
   "source": [
    "print(prima_parola[-1])"
   ]
  },
  {
   "cell_type": "code",
   "execution_count": null,
   "metadata": {},
   "outputs": [],
   "source": [
    "print(prima_parola[-2])"
   ]
  },
  {
   "cell_type": "markdown",
   "metadata": {},
   "source": [
    "### La funzione len()\n",
    "\n",
    "`len()` è una funzione di Python che restituisce la lunghezza di un oggetto come una stringa. La lunghezza di una stringa è il numero di caratteri che essa contiene ed è sempre un intero."
   ]
  },
  {
   "cell_type": "code",
   "execution_count": null,
   "metadata": {},
   "outputs": [],
   "source": [
    "print(len(prima_parola))"
   ]
  },
  {
   "cell_type": "code",
   "execution_count": null,
   "metadata": {},
   "outputs": [],
   "source": [
    "print(len(\"ababa\") / len(\"ab\"))"
   ]
  },
  {
   "cell_type": "markdown",
   "metadata": {},
   "source": [
    "## Metodi per le stringhe\n",
    "`len()` e `print()` sono funzioni.\n",
    "I metodi sono molto simili alle funzioni ma si eseguono con la notazione puntata\n",
    "\n",
    "https://www.w3schools.com/python/python_ref_string.asp\n"
   ]
  },
  {
   "cell_type": "code",
   "execution_count": 3,
   "metadata": {},
   "outputs": [],
   "source": [
    "mia_stringa = \"Ciao a tutti\""
   ]
  },
  {
   "cell_type": "code",
   "execution_count": null,
   "metadata": {},
   "outputs": [],
   "source": [
    "print(mia_stringa.islower())"
   ]
  },
  {
   "cell_type": "code",
   "execution_count": null,
   "metadata": {},
   "outputs": [],
   "source": [
    "print(mia_stringa.count('t'))"
   ]
  },
  {
   "cell_type": "code",
   "execution_count": null,
   "metadata": {},
   "outputs": [],
   "source": [
    "print(mia_stringa.find('a'))"
   ]
  },
  {
   "cell_type": "markdown",
   "metadata": {},
   "source": [
    "### Esercizi"
   ]
  },
  {
   "cell_type": "code",
   "execution_count": null,
   "metadata": {},
   "outputs": [],
   "source": [
    "'''\n",
    "Stampa un messaggio di log usando le variabili qui sotto (prima devi assegnare valori di tipo str a ciascuna variabile)\n",
    "Formato del messaggio in output:\n",
    "\"Giovanni ha visitato il sito www.google.com alle ore 14:05.\"\n",
    "'''\n",
    "username = # inserisci il valore\n",
    "timestamp = # inserisci il valore\n",
    "url = # inserisci il valore\n",
    "\n",
    "# stampa il messaggio"
   ]
  },
  {
   "cell_type": "code",
   "execution_count": null,
   "metadata": {},
   "outputs": [],
   "source": [
    "'''\n",
    "La variabile poesia contiene una lunga poesia in inglese.\n",
    "Usa print() e i metodi delle stringhe per rispondere alle domande seguenti (usa format() o f-string nelle risposte per fare pratica)\n",
    "1. Quanto è lunga la poesia?\n",
    "2. In quale posizione appare per la prima volta la parola \"and\"?\n",
    "3. In quale posizione appare per l'ultima volta la parola \"you\"?\n",
    "4. Quante volte appare la parola \"you\" nella poesia?\n",
    "'''\n",
    "\n",
    "poesia = \"If you can keep your head when all about you\\n  Are losing theirs and blaming it on you,\\nIf you can trust yourself when all men doubt you,\\n  But make allowance for their doubting too;\\nIf you can wait and not be tired by waiting,\\n  Or being lied about, don’t deal in lies,\\nOr being hated, don\\’t give way to hating,\\n  And yet don\\’t look too good, nor talk too wise:\"\n",
    "\n"
   ]
  },
  {
   "cell_type": "markdown",
   "metadata": {},
   "source": [
    "### Tipi di dato\n",
    "\n",
    "Per ora abbiamo visto quattro tipi di dati cioè di valori che possiamo salvare all'interno delle variabili.\n",
    "\n",
    "1. int\n",
    "2. float\n",
    "3. bool\n",
    "4. string\n",
    "\n",
    "Possiamo controllare il tipo di un valore o di una variabile usando la funzione ```type()```."
   ]
  },
  {
   "cell_type": "code",
   "execution_count": null,
   "metadata": {},
   "outputs": [],
   "source": [
    "print(type(4))"
   ]
  },
  {
   "cell_type": "code",
   "execution_count": null,
   "metadata": {},
   "outputs": [],
   "source": [
    "print(type(3.7))"
   ]
  },
  {
   "cell_type": "code",
   "execution_count": null,
   "metadata": {},
   "outputs": [],
   "source": [
    "print(type('ciao'))"
   ]
  },
  {
   "cell_type": "code",
   "execution_count": null,
   "metadata": {},
   "outputs": [],
   "source": [
    "print(type(True))"
   ]
  },
  {
   "cell_type": "code",
   "execution_count": null,
   "metadata": {},
   "outputs": [],
   "source": [
    "numero = 42\n",
    "print(type(numero))"
   ]
  },
  {
   "cell_type": "code",
   "execution_count": null,
   "metadata": {},
   "outputs": [],
   "source": [
    "'''\n",
    "Le cinque variabili qui sotto contengono i ricavi giorno per giorno di una settimana in un negozio. \n",
    "Stampa una stringa in questo formato: \"Totale ricavi settimanali: xxx\" dove xxx sarà il totale dei ricavi settimanali.\n",
    "'''\n",
    "lun = \"121\"\n",
    "mar = \"105\"\n",
    "mer = \"110\"\n",
    "gio = \"98\"\n",
    "ven = \"95\"\n",
    "print(f\"Totale ricavi settimanali: {int(lun) + int(mar) + int(mer) + int(gio) + int(ven)}\")"
   ]
  },
  {
   "cell_type": "markdown",
   "metadata": {},
   "source": [
    "### Alla fine dello svolgimento del notebook devi saper fare in Python:\n",
    "\n",
    "- distinguere i tipi di dati \n",
    "- lavorare con le stringhe  \n"
   ]
  }
 ],
 "metadata": {
  "kernelspec": {
   "display_name": "Python 3 (ipykernel)",
   "language": "python",
   "name": "python3"
  },
  "language_info": {
   "codemirror_mode": {
    "name": "ipython",
    "version": 3
   },
   "file_extension": ".py",
   "mimetype": "text/x-python",
   "name": "python",
   "nbconvert_exporter": "python",
   "pygments_lexer": "ipython3",
   "version": "3.10.8"
  }
 },
 "nbformat": 4,
 "nbformat_minor": 4
}
